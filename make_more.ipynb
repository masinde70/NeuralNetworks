{
 "cells": [
  {
   "cell_type": "code",
   "execution_count": null,
   "id": "78573094-d9a2-4230-9a89-c61fa4cd644f",
   "metadata": {},
   "outputs": [],
   "source": []
  }
 ],
 "metadata": {
  "kernelspec": {
   "display_name": "Python 3 (ipykernel)",
   "language": "python",
   "name": "python3"
  },
  "language_info": {
   "name": ""
  }
 },
 "nbformat": 4,
 "nbformat_minor": 5
}
